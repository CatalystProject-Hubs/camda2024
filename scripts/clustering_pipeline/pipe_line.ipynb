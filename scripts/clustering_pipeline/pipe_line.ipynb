{
 "cells": [
  {
   "cell_type": "code",
   "execution_count": 1,
   "id": "c2c5dd9c-c5f3-45d4-98a2-3ef0042e4526",
   "metadata": {},
   "outputs": [],
   "source": [
    "from sklearn.metrics import silhouette_score\n",
    "from sklearn.cluster import KMeans\n",
    "from sklearn.cluster import AgglomerativeClustering\n",
    "from sklearn.cluster import Birch\n",
    "\n",
    "import pandas as pd\n",
    "import numpy as np"
   ]
  },
  {
   "cell_type": "code",
   "execution_count": 2,
   "id": "e4949f01-eb99-4a1a-a52a-625a952502a8",
   "metadata": {},
   "outputs": [
    {
     "name": "stdout",
     "output_type": "stream",
     "text": [
      "   p_id  age v_o_id sex  K73  H35  I65  J45  F30-F39  E66  ...  C40-C41  C53  \\\n",
      "0    11   77   11_5   F  NaN  NaN  NaN  NaN      NaN  NaN  ...      NaN  NaN   \n",
      "1    23   63   23_4   U  NaN  NaN  NaN  NaN      NaN  1.0  ...      NaN  NaN   \n",
      "2    39   49   39_5   F  NaN  NaN  NaN  NaN      NaN  NaN  ...      NaN  NaN   \n",
      "3    43   52   43_5   F  NaN  NaN  NaN  NaN      NaN  NaN  ...      NaN  NaN   \n",
      "4    59   78   59_6   F  NaN  NaN  NaN  NaN      NaN  NaN  ...      NaN  NaN   \n",
      "\n",
      "   Z89  C43  C46  C56  C73  pred1y_E10-E14  years_with_diabetes  \\\n",
      "0  NaN  NaN  NaN  NaN  NaN             1.0                    0   \n",
      "1  NaN  NaN  NaN  NaN  NaN             1.0                    0   \n",
      "2  NaN  NaN  NaN  NaN  NaN             1.0                    0   \n",
      "3  NaN  NaN  NaN  NaN  NaN             NaN                    0   \n",
      "4  NaN  NaN  NaN  NaN  NaN             NaN                    0   \n",
      "\n",
      "        stratification  \n",
      "0  predicted_condition  \n",
      "1  predicted_condition  \n",
      "2  predicted_condition  \n",
      "3         no_condition  \n",
      "4         no_condition  \n",
      "\n",
      "[5 rows x 90 columns]\n"
     ]
    }
   ],
   "source": [
    "import requests\n",
    "import pandas as pd\n",
    "\n",
    "# Tu token de acceso\n",
    "access_token = ''\n",
    "\n",
    "# ID del archivo que deseas leer de Google Drive\n",
    "file_id = '16f1oPpO_vQSLNEmnQJMOa7lee5c49Uo9'\n",
    "\n",
    "# URL de la API de Google Drive para descargar el archivo\n",
    "url = f'https://www.googleapis.com/drive/v3/files/{file_id}?alt=media'\n",
    "\n",
    "# Encabezados de la solicitud\n",
    "headers = {\n",
    "    'Authorization': f'Bearer {access_token}'\n",
    "}\n",
    "\n",
    "# Realizar la solicitud GET para descargar el archivo\n",
    "response = requests.get(url, headers=headers)\n",
    "\n",
    "# Verificar si la solicitud fue exitosa\n",
    "if response.status_code == 200:\n",
    "    # Guardar el contenido en un archivo temporal\n",
    "    with open('temp_file.csv', 'wb') as f:\n",
    "        f.write(response.content)\n",
    "    \n",
    "    # Leer el archivo en un DataFrame de pandas\n",
    "    df = pd.read_csv('temp_file.csv')\n",
    "    \n",
    "    # Visualizar los primeros registros del DataFrame\n",
    "    print(df.head())\n",
    "else:\n",
    "    print(f'Error al descargar el archivo: {response.status_code}')\n"
   ]
  },
  {
   "cell_type": "code",
   "execution_count": 3,
   "id": "af2e2bdc-3d61-487d-978d-21b0cd6e94b1",
   "metadata": {},
   "outputs": [],
   "source": [
    "def obtener_mejor_numero_clusters(clustering_method, data, max_clusters=10):\n",
    "    mejor_score = -1\n",
    "    mejor_numero_clusters = 0\n",
    "\n",
    "    for n_clusters in range(2, max_clusters+1):\n",
    "        clustering = clustering_method(n_clusters=n_clusters)\n",
    "\n",
    "        clustering.fit(data)\n",
    "\n",
    "        silhouette_avg = silhouette_score(data, clustering.labels_)\n",
    "\n",
    "        if silhouette_avg > mejor_score:\n",
    "            mejor_score = silhouette_avg\n",
    "            mejor_numero_clusters = n_clusters\n",
    "\n",
    "    return mejor_numero_clusters"
   ]
  },
  {
   "cell_type": "code",
   "execution_count": 5,
   "id": "83e27569-efef-441a-9323-df9d651851c6",
   "metadata": {},
   "outputs": [],
   "source": [
    "import pandas as pd\n",
    "df = df.fillna(0)\n",
    "df.loc[df['sex'] == 'F', 'sex'] = 2\n",
    "df.loc[df['sex'] == 'M', 'sex'] = 1\n",
    "df.loc[df['sex'] == 'U', 'sex'] = 3\n",
    "df = df.drop(columns = ['p_id', 'v_o_id', 'stratification'], axis= 1)\n",
    "df = np.array(df)"
   ]
  },
  {
   "cell_type": "code",
   "execution_count": 6,
   "id": "25dea5b9-6e28-4dfc-8430-47575e8468f5",
   "metadata": {},
   "outputs": [
    {
     "name": "stdout",
     "output_type": "stream",
     "text": [
      "Mejor número de clusters según Silhouette: 3\n"
     ]
    }
   ],
   "source": [
    "clustering_method = Birch\n",
    "\n",
    "data = df[:20]\n",
    "\n",
    "mejor_numero_clusters = obtener_mejor_numero_clusters(clustering_method, data)\n",
    "\n",
    "print(\"Mejor número de clusters según Silhouette:\", mejor_numero_clusters)\n"
   ]
  },
  {
   "cell_type": "code",
   "execution_count": 7,
   "id": "95ac9b61-9434-4f06-8ca3-74081a3cae41",
   "metadata": {},
   "outputs": [],
   "source": [
    "\n",
    "def k_means(df, lista_k):\n",
    "  #df = np.array(db)\n",
    "  modelos = []\n",
    "  for k in lista_k:\n",
    "    # Enternamiento\n",
    "    km = KMeans(n_clusters=k, random_state=37)\n",
    "    km.fit(df)\n",
    "    modelos.append(km)\n",
    "  return modelos\n",
    "\n",
    "def metrics(df, l_modelos):\n",
    "  scores = {'davie_bouldin' : [], 'calinski_harabasz': [], 'sillhouette': []}\n",
    "  for m in  l_modelos:\n",
    "    scores['davie_bouldin'].append(davies_bouldin_score(df, m.labels_))\n",
    "    scores['calinski_harabasz'].append(calinski_harabasz_score(df, m.labels_))\n",
    "    scores['sillhouette'].append(silhouette_score(df, m.labels_))\n",
    "  return scores\n",
    "\n",
    "def informe_metrics(scores, lista_k):\n",
    "    df = pd.DataFrame(scores)\n",
    "    df.insert(0, 'numero de k', lista_k)\n",
    "    #df['davie_nom'] = df['davie_bouldin'].apply(lambda a: 1 / (a + 1))\n",
    "    #df['calinski_nom'] = df['calinski_harabasz'].apply(lambda a: 1 - (1/ (a + 1)))\n",
    "    #df['sillhoutte_nom'] = df['sillhouette'].apply(lambda a: (a + 1)/ 2)\n",
    "\n",
    "    # Calcular la media de las últimas tres métricas\n",
    "    #df['media metrics'] = df.iloc[:, -3:].sum(axis=1) / 3\n",
    "    df.to_csv(\"scores.xlsx\", index=False)\n",
    "    return df\n",
    "\n",
    "\n",
    "def grafics():\n",
    "  pass\n",
    "\n",
    "def main(db):\n",
    "  df = np.array(db)\n",
    "  k = [i for i in range(2, 41)]\n",
    "  modelos = k_means(df, k)\n",
    "  scores = metrics(df, modelos)\n",
    "  informe_metrics(scores, k)\n",
    "\n",
    "  return (modelos, scores)\n"
   ]
  },
  {
   "cell_type": "code",
   "execution_count": null,
   "id": "88984350-a298-4d1e-b440-08a23c2bde90",
   "metadata": {},
   "outputs": [],
   "source": []
  }
 ],
 "metadata": {
  "kernelspec": {
   "display_name": "Python 3 (ipykernel)",
   "language": "python",
   "name": "python3"
  },
  "language_info": {
   "codemirror_mode": {
    "name": "ipython",
    "version": 3
   },
   "file_extension": ".py",
   "mimetype": "text/x-python",
   "name": "python",
   "nbconvert_exporter": "python",
   "pygments_lexer": "ipython3",
   "version": "3.11.8"
  }
 },
 "nbformat": 4,
 "nbformat_minor": 5
}
