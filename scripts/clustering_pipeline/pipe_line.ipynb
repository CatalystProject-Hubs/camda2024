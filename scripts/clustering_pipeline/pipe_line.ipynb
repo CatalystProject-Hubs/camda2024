{
 "cells": [
  {
   "cell_type": "code",
   "execution_count": null,
   "id": "63744636",
   "metadata": {},
   "outputs": [],
   "source": [
    "!pip install gap-stat"
   ]
  },
  {
   "cell_type": "code",
   "execution_count": null,
   "id": "c2c5dd9c-c5f3-45d4-98a2-3ef0042e4526",
   "metadata": {},
   "outputs": [],
   "source": [
    "from sklearn.metrics import silhouette_score\n",
    "from sklearn.cluster import KMeans\n",
    "from sklearn.cluster import AgglomerativeClustering\n",
    "from sklearn.cluster import Birch\n",
    "\n",
    "import pandas as pd\n",
    "import numpy as np"
   ]
  },
  {
   "cell_type": "code",
   "execution_count": null,
   "id": "e4949f01-eb99-4a1a-a52a-625a952502a8",
   "metadata": {},
   "outputs": [
    {
     "name": "stdout",
     "output_type": "stream",
     "text": [
      "   p_id  age v_o_id sex  K73  H35  I65  J45  F30-F39  E66  ...  C40-C41  C53  \\\n",
      "0    11   77   11_5   F  NaN  NaN  NaN  NaN      NaN  NaN  ...      NaN  NaN   \n",
      "1    23   63   23_4   U  NaN  NaN  NaN  NaN      NaN  1.0  ...      NaN  NaN   \n",
      "2    39   49   39_5   F  NaN  NaN  NaN  NaN      NaN  NaN  ...      NaN  NaN   \n",
      "3    43   52   43_5   F  NaN  NaN  NaN  NaN      NaN  NaN  ...      NaN  NaN   \n",
      "4    59   78   59_6   F  NaN  NaN  NaN  NaN      NaN  NaN  ...      NaN  NaN   \n",
      "\n",
      "   Z89  C43  C46  C56  C73  pred1y_E10-E14  years_with_diabetes  \\\n",
      "0  NaN  NaN  NaN  NaN  NaN             1.0                    0   \n",
      "1  NaN  NaN  NaN  NaN  NaN             1.0                    0   \n",
      "2  NaN  NaN  NaN  NaN  NaN             1.0                    0   \n",
      "3  NaN  NaN  NaN  NaN  NaN             NaN                    0   \n",
      "4  NaN  NaN  NaN  NaN  NaN             NaN                    0   \n",
      "\n",
      "        stratification  \n",
      "0  predicted_condition  \n",
      "1  predicted_condition  \n",
      "2  predicted_condition  \n",
      "3         no_condition  \n",
      "4         no_condition  \n",
      "\n",
      "[5 rows x 90 columns]\n"
     ]
    }
   ],
   "source": [
    "import requests\n",
    "import pandas as pd\n",
    "\n",
    "# Tu token de acceso\n",
    "access_token = ''\n",
    "\n",
    "# ID del archivo que deseas leer de Google Drive\n",
    "file_id = '16f1oPpO_vQSLNEmnQJMOa7lee5c49Uo9'\n",
    "\n",
    "# URL de la API de Google Drive para descargar el archivo\n",
    "url = f'https://www.googleapis.com/drive/v3/files/{file_id}?alt=media'\n",
    "\n",
    "# Encabezados de la solicitud\n",
    "headers = {\n",
    "    'Authorization': f'Bearer {access_token}'\n",
    "}\n",
    "\n",
    "# Realizar la solicitud GET para descargar el archivo\n",
    "response = requests.get(url, headers=headers)\n",
    "\n",
    "# Verificar si la solicitud fue exitosa\n",
    "if response.status_code == 200:\n",
    "    # Guardar el contenido en un archivo temporal\n",
    "    with open('temp_file.csv', 'wb') as f:\n",
    "        f.write(response.content)\n",
    "    \n",
    "    # Leer el archivo en un DataFrame de pandas\n",
    "    df = pd.read_csv('temp_file.csv')\n",
    "    \n",
    "    # Visualizar los primeros registros del DataFrame\n",
    "    print(df.head())\n",
    "else:\n",
    "    print(f'Error al descargar el archivo: {response.status_code}')\n"
   ]
  }
 ],
 "metadata": {
  "kernelspec": {
   "display_name": "Python 3 (ipykernel)",
   "language": "python",
   "name": "python3"
  },
  "language_info": {
   "codemirror_mode": {
    "name": "ipython",
    "version": 3
   },
   "file_extension": ".py",
   "mimetype": "text/x-python",
   "name": "python",
   "nbconvert_exporter": "python",
   "pygments_lexer": "ipython3",
   "version": "3.11.8"
  }
 },
 "nbformat": 4,
 "nbformat_minor": 5
}
