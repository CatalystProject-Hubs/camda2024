{
 "cells": [
  {
   "cell_type": "code",
   "execution_count": 1,
   "id": "5c795b64-6ba1-4ad2-b5bd-7e120c59b1b1",
   "metadata": {},
   "outputs": [
    {
     "name": "stdout",
     "output_type": "stream",
     "text": [
      "Requirement already satisfied: gap-stat in /opt/conda/lib/python3.11/site-packages (2.0.3)\n",
      "Requirement already satisfied: kneed in /opt/conda/lib/python3.11/site-packages (0.8.5)\n",
      "Requirement already satisfied: numpy in /opt/conda/lib/python3.11/site-packages (from gap-stat) (1.26.4)\n",
      "Requirement already satisfied: pandas in /opt/conda/lib/python3.11/site-packages (from gap-stat) (2.2.1)\n",
      "Requirement already satisfied: scipy in /opt/conda/lib/python3.11/site-packages (from gap-stat) (1.12.0)\n",
      "Requirement already satisfied: python-dateutil>=2.8.2 in /opt/conda/lib/python3.11/site-packages (from pandas->gap-stat) (2.9.0)\n",
      "Requirement already satisfied: pytz>=2020.1 in /opt/conda/lib/python3.11/site-packages (from pandas->gap-stat) (2024.1)\n",
      "Requirement already satisfied: tzdata>=2022.7 in /opt/conda/lib/python3.11/site-packages (from pandas->gap-stat) (2024.1)\n",
      "Requirement already satisfied: six>=1.5 in /opt/conda/lib/python3.11/site-packages (from python-dateutil>=2.8.2->pandas->gap-stat) (1.16.0)\n"
     ]
    }
   ],
   "source": [
    "!pip install gap-stat kneed"
   ]
  },
  {
   "cell_type": "code",
   "execution_count": 2,
   "id": "c2c5dd9c-c5f3-45d4-98a2-3ef0042e4526",
   "metadata": {},
   "outputs": [],
   "source": [
    "from sklearn.metrics import silhouette_score\n",
    "from sklearn.cluster import KMeans\n",
    "from sklearn.cluster import AgglomerativeClustering\n",
    "from sklearn.cluster import Birch\n",
    "\n",
    "from tqdm import tqdm\n",
    "import pandas as pd\n",
    "import numpy as np"
   ]
  },
  {
   "cell_type": "markdown",
   "id": "f1cbc576-1036-4423-9268-101f13319374",
   "metadata": {},
   "source": [
    "# Importar base de datos"
   ]
  },
  {
   "cell_type": "code",
   "execution_count": null,
   "id": "3faa3fee-e611-4a41-8649-3f75a50e85b6",
   "metadata": {},
   "outputs": [],
   "source": [
    "import requests\n",
    "import pandas as pd\n",
    "\n",
    "access_token = ''\n",
    "file_id = '16f1oPpO_vQSLNEmnQJMOa7lee5c49Uo9'\n",
    "url = f'https://www.googleapis.com/drive/v3/files/{file_id}?alt=media'\n",
    "\n",
    "headers = {'Authorization': f'Bearer {access_token}'}\n",
    "\n",
    "response = requests.get(url, headers=headers)\n",
    "\n",
    "if response.status_code == 200:\n",
    "    with open('temp_file.csv', 'wb') as f:\n",
    "        f.write(response.content)        \n",
    "    df = pd.read_csv('temp_file.csv')\n",
    "else:\n",
    "    print(f'Error al descargar el archivo: {response.status_code}')\n"
   ]
  },
  {
   "cell_type": "markdown",
   "id": "76dfb530-7c86-4096-bbde-91218da08db7",
   "metadata": {},
   "source": [
    "# Limpiar base de datos"
   ]
  },
  {
   "cell_type": "code",
   "execution_count": 4,
   "id": "4f296b76-849c-4a15-8ee6-d00c16904459",
   "metadata": {},
   "outputs": [],
   "source": [
    "df = data[:len(data)//100]"
   ]
  },
  {
   "cell_type": "code",
   "execution_count": 5,
   "id": "83e27569-efef-441a-9323-df9d651851c6",
   "metadata": {},
   "outputs": [],
   "source": [
    "import pandas as pd\n",
    "df = df.fillna(0)\n",
    "df.loc[df['sex'] == 'F', 'sex'] = 2\n",
    "df.loc[df['sex'] == 'M', 'sex'] = 1\n",
    "df.loc[df['sex'] == 'U', 'sex'] = 3\n",
    "df = df.drop(columns = ['p_id', 'v_o_id', 'stratification'], axis= 1)\n",
    "#df = np.array(df)"
   ]
  },
  {
   "cell_type": "markdown",
   "id": "22620842-1c1d-4bb4-9268-eae5c4631891",
   "metadata": {},
   "source": [
    "# Calcular k's"
   ]
  },
  {
   "cell_type": "markdown",
   "id": "12f2274b-d6d1-41fe-b344-c26cc3c8fe1e",
   "metadata": {},
   "source": [
    "## Importar metricas de _k_ values"
   ]
  },
  {
   "cell_type": "code",
   "execution_count": 6,
   "id": "31b971e4-099b-43e7-add3-2c80a3df691e",
   "metadata": {},
   "outputs": [],
   "source": [
    "from k_values.silhouette import silhouette\n",
    "from k_values.elbow import elbow\n",
    "from k_values.gap_statistic import gap_statistic"
   ]
  },
  {
   "cell_type": "markdown",
   "id": "857bf49d",
   "metadata": {},
   "source": [
    "## Evaluar métricas de los _k_ values"
   ]
  },
  {
   "cell_type": "code",
   "execution_count": 7,
   "id": "5ba61ae6-3641-4fa0-bb62-3e2a0da152da",
   "metadata": {},
   "outputs": [
    {
     "name": "stdout",
     "output_type": "stream",
     "text": [
      "[2, 4]\n"
     ]
    }
   ],
   "source": [
    "Models= [KMeans,Birch,AgglomerativeClustering]\n",
    "# Models= [KMeans]\n",
    "\n",
    "Ks=[]\n",
    "\n",
    "for m in Models:\n",
    "    Ks.append(silhouette(m,df))\n",
    "\n",
    "# Ks.append(gap_statistic(np.array(df)))\n",
    "Ks.append(elbow(KMeans,df))\n",
    "\n",
    "Ks = list(set(Ks))\n",
    "\n",
    "print(Ks)"
   ]
  },
  {
   "cell_type": "code",
   "execution_count": 8,
   "id": "c9097817",
   "metadata": {},
   "outputs": [],
   "source": [
    "from metrics.metrics import informe\n",
    "\n",
    "Models= [KMeans,Birch,AgglomerativeClustering]\n",
    "for i in Models:\n",
    "    informe(df,Ks,i)\n",
    "    "
   ]
  },
  {
   "cell_type": "markdown",
   "id": "4f87e9c9",
   "metadata": {},
   "source": [
    "# Evaluando los modelos"
   ]
  },
  {
   "cell_type": "code",
   "execution_count": 10,
   "id": "95ac9b61-9434-4f06-8ca3-74081a3cae41",
   "metadata": {},
   "outputs": [],
   "source": [
    "\n",
    "def k_means(df, lista_k):\n",
    "  #df = np.array(db)\n",
    "  modelos = []\n",
    "  for k in lista_k:\n",
    "    # Enternamiento\n",
    "    km = KMeans(n_clusters=k, random_state=37)\n",
    "    km.fit(df)\n",
    "    modelos.append(km)\n",
    "  return modelos\n",
    "\n",
    "def metrics(df, l_modelos):\n",
    "  scores = {'davie_bouldin' : [], 'calinski_harabasz': [], 'sillhouette': []}\n",
    "  for m in  l_modelos:\n",
    "    scores['davie_bouldin'].append(davies_bouldin_score(df, m.labels_))\n",
    "    scores['calinski_harabasz'].append(calinski_harabasz_score(df, m.labels_))\n",
    "    scores['sillhouette'].append(silhouette_score(df, m.labels_))\n",
    "  return scores\n",
    "\n",
    "def informe_metrics(scores, lista_k):\n",
    "    df = pd.DataFrame(scores)\n",
    "    df.insert(0, 'numero de k', lista_k)\n",
    "    #df['davie_nom'] = df['davie_bouldin'].apply(lambda a: 1 / (a + 1))\n",
    "    #df['calinski_nom'] = df['calinski_harabasz'].apply(lambda a: 1 - (1/ (a + 1)))\n",
    "    #df['sillhoutte_nom'] = df['sillhouette'].apply(lambda a: (a + 1)/ 2)\n",
    "\n",
    "    # Calcular la media de las últimas tres métricas\n",
    "    #df['media metrics'] = df.iloc[:, -3:].sum(axis=1) / 3\n",
    "    df.to_csv(\"scores.xlsx\", index=False)\n",
    "    return df\n",
    "\n",
    "\n",
    "def grafics():\n",
    "  pass\n",
    "\n",
    "def main(db):\n",
    "  df = np.array(db)\n",
    "  k = [i for i in range(2, 41)]\n",
    "  modelos = k_means(df, k)\n",
    "  scores = metrics(df, modelos)\n",
    "  informe_metrics(scores, k)\n",
    "\n",
    "  return (modelos, scores)\n"
   ]
  },
  {
   "cell_type": "markdown",
   "id": "7c8111ab",
   "metadata": {},
   "source": [
    "# "
   ]
  },
  {
   "cell_type": "code",
   "execution_count": null,
   "id": "88984350-a298-4d1e-b440-08a23c2bde90",
   "metadata": {},
   "outputs": [],
   "source": []
  }
 ],
 "metadata": {
  "kernelspec": {
   "display_name": "Python 3 (ipykernel)",
   "language": "python",
   "name": "python3"
  },
  "language_info": {
   "codemirror_mode": {
    "name": "ipython",
    "version": 3
   },
   "file_extension": ".py",
   "mimetype": "text/x-python",
   "name": "python",
   "nbconvert_exporter": "python",
   "pygments_lexer": "ipython3",
   "version": "3.11.8"
  }
 },
 "nbformat": 4,
 "nbformat_minor": 5
}
